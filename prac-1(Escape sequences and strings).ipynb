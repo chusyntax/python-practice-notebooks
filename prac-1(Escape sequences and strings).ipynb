{
 "cells": [
  {
   "cell_type": "code",
   "execution_count": 1,
   "id": "280286da",
   "metadata": {
    "scrolled": true
   },
   "outputs": [
    {
     "data": {
      "text/plain": [
       "True"
      ]
     },
     "execution_count": 1,
     "metadata": {},
     "output_type": "execute_result"
    }
   ],
   "source": [
    "5 > 4\n"
   ]
  },
  {
   "cell_type": "markdown",
   "id": "9282de19",
   "metadata": {},
   "source": [
    "My first Notebook\n"
   ]
  },
  {
   "cell_type": "code",
   "execution_count": null,
   "id": "37fe492f",
   "metadata": {},
   "outputs": [],
   "source": [
    "print(type('hello world'))\n",
    "\n",
    "first_name = \"Chu\"  # assigns to a variable\n",
    "last_name = \"Theko\"\n",
    "full_name = first_name + \" \" + last_name\n",
    "\n",
    "print(full_name)\n",
    "\n",
    "print(type(str(int(10))))  # Type Conversion\n",
    "\n",
    "# Escape Sequence \"Whatever comes after the backslash is a string\"\n",
    "weather = \"It\\'s \\\"kind of\\\" sunny today \"\n",
    "# \\t adds tab\n",
    "# \\n new line\n",
    "print(weather)\n",
    "\n",
    "# formatted strings ~ f string\n",
    "print(f\"my name is {first_name} and my surname is {last_name}\")\n",
    "\n",
    "si = \"01234567\"\n",
    "print(si[0:5:2])  # String Indexes ~ [Start:Stop:Stepover]\n",
    "print(si[::-1])  # reverses the order\n",
    "# Strings are immutable(cannot be chnaged). The only way it can be  changed is by completely reassigning\n",
    "# String methods ~ .replace('','') .capitalize(), .format, .upper()\n",
    "\n",
    "#Boolean- True and False\n",
    "# 0=false, 1=true\n",
    "print(bool(9))\n",
    "\n",
    "birth_year = input(\"what year were you born?\")\n",
    "\n",
    "# type conversion is needed in order to do mathematical opertions\n",
    "age = 2022 - int(birth_year)\n",
    "\n",
    "print(f\" You are {age} years old\")\n"
   ]
  }
 ],
 "metadata": {
  "kernelspec": {
   "display_name": "Python 3 (ipykernel)",
   "language": "python",
   "name": "python3"
  },
  "language_info": {
   "codemirror_mode": {
    "name": "ipython",
    "version": 3
   },
   "file_extension": ".py",
   "mimetype": "text/x-python",
   "name": "python",
   "nbconvert_exporter": "python",
   "pygments_lexer": "ipython3",
   "version": "3.9.12"
  }
 },
 "nbformat": 4,
 "nbformat_minor": 5
}
